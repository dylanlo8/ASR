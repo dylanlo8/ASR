{
 "cells": [
  {
   "cell_type": "code",
   "execution_count": 1,
   "metadata": {},
   "outputs": [
    {
     "name": "stderr",
     "output_type": "stream",
     "text": [
      "/home/dhuser/Desktop/.venv/lib/python3.10/site-packages/tqdm/auto.py:21: TqdmWarning: IProgress not found. Please update jupyter and ipywidgets. See https://ipywidgets.readthedocs.io/en/stable/user_install.html\n",
      "  from .autonotebook import tqdm as notebook_tqdm\n",
      "2024-05-31 11:23:00.250469: I tensorflow/core/util/port.cc:113] oneDNN custom operations are on. You may see slightly different numerical results due to floating-point round-off errors from different computation orders. To turn them off, set the environment variable `TF_ENABLE_ONEDNN_OPTS=0`.\n",
      "2024-05-31 11:23:00.283289: I tensorflow/core/platform/cpu_feature_guard.cc:210] This TensorFlow binary is optimized to use available CPU instructions in performance-critical operations.\n",
      "To enable the following instructions: AVX2 AVX_VNNI FMA, in other operations, rebuild TensorFlow with the appropriate compiler flags.\n",
      "2024-05-31 11:23:00.847494: W tensorflow/compiler/tf2tensorrt/utils/py_utils.cc:38] TF-TRT Warning: Could not find TensorRT\n"
     ]
    }
   ],
   "source": [
    "from datasets import load_dataset, Dataset, Audio\n",
    "from transformers import AutoProcessor, WhisperModel, AutoTokenizer, AutoModelForCausalLM\n",
    "import torch\n",
    "import wave"
   ]
  },
  {
   "cell_type": "code",
   "execution_count": 2,
   "metadata": {},
   "outputs": [],
   "source": [
    "# Load the Audio Data\n",
    "list_of_audio_files = [\"data/sub/De95Osq7p1c_trimmed_segment_1.wav\", \"data/sub/De95Osq7p1c_trimmed_segment_2.wav\"]"
   ]
  },
  {
   "cell_type": "code",
   "execution_count": 103,
   "metadata": {},
   "outputs": [
    {
     "name": "stderr",
     "output_type": "stream",
     "text": [
      "/home/dhuser/Desktop/.venv/lib/python3.10/site-packages/transformers/models/whisper/generation_whisper.py:473: FutureWarning: The input name `inputs` is deprecated. Please make sure to use `input_features` instead.\n",
      "  warnings.warn(\n",
      "Due to a bug fix in https://github.com/huggingface/transformers/pull/28687 transcription using a multilingual Whisper will default to language detection followed by transcription instead of translation to English.This might be a breaking change for your use case. If you want to instead always translate your audio to English, make sure to pass `language='en'`.\n"
     ]
    },
    {
     "data": {
      "text/plain": [
       "['<|startoftranscript|><|th|><|transcribe|><|notimestamps|>ทุกคน วันนี้น่ะมีเด็กกับผู้ชายคนหนึ่งค่ะ<|endoftext|><|endoftext|><|endoftext|><|endoftext|><|endoftext|><|endoftext|><|endoftext|><|endoftext|>',\n",
       " '<|startoftranscript|><|th|><|transcribe|><|notimestamps|>หนุ่มลูกครึ่ง ชื่อแบบตาโตเซอร์ ๆ ผมยาวค้อ ๆ<|endoftext|>']"
      ]
     },
     "execution_count": 103,
     "metadata": {},
     "output_type": "execute_result"
    }
   ],
   "source": [
    "from transformers import WhisperForConditionalGeneration, WhisperProcessor\n",
    "\n",
    "model_generate = WhisperForConditionalGeneration.from_pretrained(\"openai/whisper-medium\")\n",
    "model_generate.to(device)\n",
    "\n",
    "generated = model_generate.generate(inputs = inputs)\n",
    "processor.batch_decode(generated)"
   ]
  },
  {
   "cell_type": "markdown",
   "metadata": {},
   "source": [
    "# Experimenting Adaptors"
   ]
  },
  {
   "cell_type": "code",
   "execution_count": 3,
   "metadata": {},
   "outputs": [],
   "source": [
    "class AudioToTextPipeline(torch.nn.Module):\n",
    "    def __init__(self, audio_encoder=\"openai/whisper-medium\", llm=\"sealion\"):\n",
    "        super().__init__()\n",
    "        \n",
    "        # Device\n",
    "        self.device = torch.device(\"cuda\" if torch.cuda.is_available() else \"cpu\")\n",
    "\n",
    "        # Load the Whisper model and processor\n",
    "        self.audio_processor = AutoProcessor.from_pretrained(audio_encoder)\n",
    "        self.audio_encoder = WhisperModel.from_pretrained(audio_encoder).to(self.device)\n",
    "        \n",
    "        # Freeze Audio Encoder weights\n",
    "        for param in self.audio_encoder.parameters():\n",
    "            param.requires_grad = False\n",
    "\n",
    "        # Define the Adaptor\n",
    "        self.adaptor = torch.nn.Linear(1024, 4096)  # Do we need bias?\n",
    "        \n",
    "        # Load the LLM and its tokenizer\n",
    "        self.llm = llm\n",
    "        \n",
    "        # Freeze LLM weights\n",
    "\n",
    "    def forward(self, audio_file_path):\n",
    "        pass\n",
    "\n",
    "    def process_and_encode_audio(self, list_audio_filepaths):\n",
    "        def prepare_dataset(batch):\n",
    "            audio = batch[\"audio\"]\n",
    "            batch[\"input_features\"] = self.audio_processor.feature_extractor(audio[\"array\"], \n",
    "                                                            sampling_rate=audio[\"sampling_rate\"],\n",
    "                                                            return_tensors='pt')['input_features'][0]\n",
    "            return batch\n",
    "        \n",
    "        audio_dataset = Dataset.from_dict({\n",
    "                \"audio\": list_audio_filepaths\n",
    "            }\n",
    "        )\n",
    "        audio_dataset = audio_dataset.cast_column(\"audio\", Audio())\n",
    "\n",
    "        # Maps the audio files into Huggingface Dataset Format\n",
    "        audio_dataset = audio_dataset.map(prepare_dataset)\n",
    "        inputs = torch.tensor(audio_dataset['input_features']).to(self.device)\n",
    "\n",
    "        # Ensuring No Gradient Updates during Encoding\n",
    "        with torch.no_grad():\n",
    "            encoder_outputs = self.audio_encoder.encoder(inputs, output_hidden_states=True)\n",
    "        \n",
    "        return encoder_outputs.last_hidden_state\n"
   ]
  },
  {
   "cell_type": "code",
   "execution_count": 4,
   "metadata": {},
   "outputs": [
    {
     "name": "stderr",
     "output_type": "stream",
     "text": [
      "/home/dhuser/Desktop/.venv/lib/python3.10/site-packages/huggingface_hub/file_download.py:1132: FutureWarning: `resume_download` is deprecated and will be removed in version 1.0.0. Downloads always resume when possible. If you want to force a new download, use `force_download=True`.\n",
      "  warnings.warn(\n",
      "Special tokens have been added in the vocabulary, make sure the associated word embeddings are fine-tuned or trained.\n"
     ]
    }
   ],
   "source": [
    "translator = AudioToTextPipeline()"
   ]
  },
  {
   "cell_type": "code",
   "execution_count": 6,
   "metadata": {},
   "outputs": [
    {
     "name": "stderr",
     "output_type": "stream",
     "text": [
      "Map: 100%|██████████| 2/2 [00:00<00:00, 19.90 examples/s]\n"
     ]
    },
    {
     "data": {
      "text/plain": [
       "torch.Size([2, 1500, 1024])"
      ]
     },
     "execution_count": 6,
     "metadata": {},
     "output_type": "execute_result"
    }
   ],
   "source": [
    "translator.process_and_encode_audio(list_of_audio_files).shape"
   ]
  }
 ],
 "metadata": {
  "kernelspec": {
   "display_name": ".venv",
   "language": "python",
   "name": "python3"
  },
  "language_info": {
   "codemirror_mode": {
    "name": "ipython",
    "version": 3
   },
   "file_extension": ".py",
   "mimetype": "text/x-python",
   "name": "python",
   "nbconvert_exporter": "python",
   "pygments_lexer": "ipython3",
   "version": "3.10.12"
  }
 },
 "nbformat": 4,
 "nbformat_minor": 2
}
